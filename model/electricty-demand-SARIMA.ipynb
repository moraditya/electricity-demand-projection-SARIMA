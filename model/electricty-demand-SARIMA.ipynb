{
 "cells": [
  {
   "cell_type": "code",
   "execution_count": 1,
   "id": "5d95856b",
   "metadata": {},
   "outputs": [],
   "source": [
    "# import relevant libraries\n",
    "import pandas as pd\n",
    "import matplotlib.pyplot as plt\n",
    "import numpy as np\n",
    "from statsmodels.tsa.seasonal import seasonal_decompose\n",
    "from pmdarima import auto_arima\n",
    "from sklearn.metrics import mean_squared_error, mean_absolute_percentage_error, mean_absolute_error\n",
    "from statsmodels.tsa.stattools import adfuller\n",
    "from statsmodels.tsa.statespace.sarimax import SARIMAX"
   ]
  },
  {
   "cell_type": "code",
   "execution_count": 2,
   "id": "23ce847a",
   "metadata": {},
   "outputs": [],
   "source": [
    "# load the data\n",
    "\n",
    "ec_df = pd.read_csv(r\"/Users/adityamxr/Desktop/Electricity Demand Projection Project/data/Electricity Consumption.csv\")"
   ]
  },
  {
   "cell_type": "code",
   "execution_count": 3,
   "id": "8568ebdd",
   "metadata": {},
   "outputs": [
    {
     "data": {
      "text/html": [
       "<div>\n",
       "<style scoped>\n",
       "    .dataframe tbody tr th:only-of-type {\n",
       "        vertical-align: middle;\n",
       "    }\n",
       "\n",
       "    .dataframe tbody tr th {\n",
       "        vertical-align: top;\n",
       "    }\n",
       "\n",
       "    .dataframe thead th {\n",
       "        text-align: right;\n",
       "    }\n",
       "</style>\n",
       "<table border=\"1\" class=\"dataframe\">\n",
       "  <thead>\n",
       "    <tr style=\"text-align: right;\">\n",
       "      <th></th>\n",
       "      <th>DATE</th>\n",
       "      <th>Electricty_Consumption_in_TW</th>\n",
       "    </tr>\n",
       "  </thead>\n",
       "  <tbody>\n",
       "    <tr>\n",
       "      <th>0</th>\n",
       "      <td>1/1/1973</td>\n",
       "      <td>35.9728</td>\n",
       "    </tr>\n",
       "    <tr>\n",
       "      <th>1</th>\n",
       "      <td>2/1/1973</td>\n",
       "      <td>36.1334</td>\n",
       "    </tr>\n",
       "    <tr>\n",
       "      <th>2</th>\n",
       "      <td>3/1/1973</td>\n",
       "      <td>35.0625</td>\n",
       "    </tr>\n",
       "    <tr>\n",
       "      <th>3</th>\n",
       "      <td>4/1/1973</td>\n",
       "      <td>33.8416</td>\n",
       "    </tr>\n",
       "    <tr>\n",
       "      <th>4</th>\n",
       "      <td>5/1/1973</td>\n",
       "      <td>33.5107</td>\n",
       "    </tr>\n",
       "  </tbody>\n",
       "</table>\n",
       "</div>"
      ],
      "text/plain": [
       "       DATE  Electricty_Consumption_in_TW\n",
       "0  1/1/1973                       35.9728\n",
       "1  2/1/1973                       36.1334\n",
       "2  3/1/1973                       35.0625\n",
       "3  4/1/1973                       33.8416\n",
       "4  5/1/1973                       33.5107"
      ]
     },
     "execution_count": 3,
     "metadata": {},
     "output_type": "execute_result"
    }
   ],
   "source": [
    "# verify import \n",
    "\n",
    "ec_df.head()"
   ]
  },
  {
   "cell_type": "markdown",
   "id": "1a93e45f",
   "metadata": {},
   "source": [
    "### Basic EDA"
   ]
  },
  {
   "cell_type": "code",
   "execution_count": 4,
   "id": "e280cba7",
   "metadata": {},
   "outputs": [
    {
     "name": "stdout",
     "output_type": "stream",
     "text": [
      "<class 'pandas.core.frame.DataFrame'>\n",
      "RangeIndex: 561 entries, 0 to 560\n",
      "Data columns (total 2 columns):\n",
      " #   Column                        Non-Null Count  Dtype  \n",
      "---  ------                        --------------  -----  \n",
      " 0   DATE                          561 non-null    object \n",
      " 1   Electricty_Consumption_in_TW  561 non-null    float64\n",
      "dtypes: float64(1), object(1)\n",
      "memory usage: 8.9+ KB\n"
     ]
    }
   ],
   "source": [
    "# check dataframe info\n",
    "ec_df.info()"
   ]
  },
  {
   "cell_type": "markdown",
   "id": "63a4f83e",
   "metadata": {},
   "source": [
    "**No nulls present**"
   ]
  },
  {
   "cell_type": "code",
   "execution_count": 5,
   "id": "8fbe9000",
   "metadata": {},
   "outputs": [],
   "source": [
    "ec_df['DATE'] = ec_df['DATE'].astype(str)  # ensure it's treated as a string before cleaning\n",
    "ec_df['DATE'] = ec_df['DATE'].str.strip()  # remove any leading or trailing spaces"
   ]
  },
  {
   "cell_type": "code",
   "execution_count": 8,
   "id": "9257856b",
   "metadata": {},
   "outputs": [
    {
     "name": "stdout",
     "output_type": "stream",
     "text": [
      "Number of NaT values:  0\n",
      "            Electricty_Consumption_in_TW\n",
      "DATE                                    \n",
      "1973-01-01                       35.9728\n",
      "1973-02-01                       36.1334\n",
      "1973-03-01                       35.0625\n",
      "1973-04-01                       33.8416\n",
      "1973-05-01                       33.5107\n"
     ]
    }
   ],
   "source": [
    "# convert date column to datetime64ns\n",
    "\n",
    "# try converting the DATE column again without specifying the format\n",
    "ec_df['DATE'] = pd.to_datetime(ec_df['DATE'], errors='coerce')\n",
    "\n",
    "# check if the conversion worked and if there are any NaT values left\n",
    "print('Number of NaT values: ', ec_df['DATE'].isnull().sum()) \n",
    "\n",
    "# drop any rows where DATE conversion failed (if NaT values exist)\n",
    "ec_df = ec_df.dropna(subset=['DATE'])\n",
    "\n",
    "# set the DATE column as the index for time series analysis\n",
    "ec_df.set_index('DATE', inplace=True)\n",
    "\n",
    "# check the first few rows to confirm the changes\n",
    "print(ec_df.head())"
   ]
  },
  {
   "cell_type": "markdown",
   "id": "3a366f07",
   "metadata": {},
   "source": [
    "#### Plot the data to visualize the time series components."
   ]
  },
  {
   "cell_type": "code",
   "execution_count": null,
   "id": "96d3cab9",
   "metadata": {},
   "outputs": [],
   "source": []
  }
 ],
 "metadata": {
  "kernelspec": {
   "display_name": "Python 3 (ipykernel)",
   "language": "python",
   "name": "python3"
  },
  "language_info": {
   "codemirror_mode": {
    "name": "ipython",
    "version": 3
   },
   "file_extension": ".py",
   "mimetype": "text/x-python",
   "name": "python",
   "nbconvert_exporter": "python",
   "pygments_lexer": "ipython3",
   "version": "3.11.5"
  }
 },
 "nbformat": 4,
 "nbformat_minor": 5
}
